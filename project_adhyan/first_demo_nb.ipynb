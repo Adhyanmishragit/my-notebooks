{
 "cells": [
  {
   "cell_type": "code",
   "execution_count": 0,
   "metadata": {
    "application/vnd.databricks.v1+cell": {
     "cellMetadata": {},
     "inputWidgets": {},
     "nuid": "686b1af3-92dd-41bd-94cd-cee230ac0352",
     "showTitle": false,
     "tableResultSettingsMap": {},
     "title": ""
    }
   },
   "outputs": [],
   "source": [
    "def is_prime(n):\n",
    "    if n < 2:\n",
    "        return False\n",
    "    for i in range(2, int(n ** 0.5) + 1):\n",
    "        if n % i == 0:\n",
    "            return False\n",
    "    return True\n",
    "\n",
    "# Example usage:\n",
    "print(is_prime(17))  # Output: True\n",
    "print(is_prime(18))  # Output: False\n"
   ]
  },
  {
   "cell_type": "code",
   "execution_count": 0,
   "metadata": {
    "application/vnd.databricks.v1+cell": {
     "cellMetadata": {},
     "inputWidgets": {},
     "nuid": "dbe995a0-ddf7-4bbb-8bfd-c5c15b2fa707",
     "showTitle": false,
     "tableResultSettingsMap": {},
     "title": ""
    }
   },
   "outputs": [],
   "source": [
    "class Node:\n",
    "    def __init__(self, key):\n",
    "        self.key, self.left, self.right, self.height = key, None, None, 1\n",
    "\n",
    "class AVLTree:\n",
    "    def height(self, root): return root.height if root else 0\n",
    "\n",
    "    def balance_factor(self, root): return self.height(root.left) - self.height(root.right) if root else 0\n",
    "\n",
    "    def rotate_right(self, y):\n",
    "        x, y.left = y.left, y.left.right\n",
    "        x.right, y.height, x.height = y, 1 + max(self.height(y.left), self.height(y.right)), 1 + max(self.height(x.left), self.height(x.right))\n",
    "        return x\n",
    "\n",
    "    def rotate_left(self, x):\n",
    "        y, x.right = x.right, x.right.left\n",
    "        y.left, x.height, y.height = x, 1 + max(self.height(x.left), self.height(x.right)), 1 + max(self.height(y.left), self.height(y.right))\n",
    "        return y\n",
    "\n",
    "    def insert(self, root, key):\n",
    "        if not root: return Node(key)\n",
    "        root.left = self.insert(root.left, key) if key < root.key else root.left\n",
    "        root.right = self.insert(root.right, key) if key > root.key else root.right\n",
    "        root.height = 1 + max(self.height(root.left), self.height(root.right))\n",
    "        balance = self.balance_factor(root)\n",
    "\n",
    "        if balance > 1: return self.rotate_right(root) if key < root.left.key else self.rotate_right(self.rotate_left(root.left))\n",
    "        if balance < -1: return self.rotate_left(root) if key > root.right.key else self.rotate_left(self.rotate_right(root.right))\n",
    "        return root\n",
    "\n",
    "    def pre_order(self, root):\n",
    "        if root: print(root.key, end=\" \"), self.pre_order(root.left), self.pre_order(root.right)\n",
    "\n",
    "# Example Usage\n",
    "avl, root = AVLTree(), None\n",
    "for key in [10, 20, 30, 40, 50, 25]: root = avl.insert(root, key)\n",
    "avl.pre_order(root)\n"
   ]
  }
 ],
 "metadata": {
  "application/vnd.databricks.v1+notebook": {
   "computePreferences": null,
   "dashboards": [],
   "environmentMetadata": {
    "base_environment": "",
    "environment_version": "2"
   },
   "language": "python",
   "notebookMetadata": {
    "pythonIndentUnit": 4
   },
   "notebookName": "first_demo_nb",
   "widgets": {}
  },
  "language_info": {
   "name": "python"
  }
 },
 "nbformat": 4,
 "nbformat_minor": 0
}
